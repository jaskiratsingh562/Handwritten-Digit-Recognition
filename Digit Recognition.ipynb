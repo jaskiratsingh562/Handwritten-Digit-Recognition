{
 "cells": [
  {
   "cell_type": "code",
   "execution_count": 2,
   "metadata": {
    "_cell_guid": "b1076dfc-b9ad-4769-8c92-a6c4dae69d19",
    "_uuid": "8f2839f25d086af736a60e9eeb907d3b93b6e0e5",
    "execution": {
     "iopub.execute_input": "2023-03-31T18:22:51.826696Z",
     "iopub.status.busy": "2023-03-31T18:22:51.826284Z",
     "iopub.status.idle": "2023-03-31T18:22:51.837960Z",
     "shell.execute_reply": "2023-03-31T18:22:51.836544Z",
     "shell.execute_reply.started": "2023-03-31T18:22:51.826647Z"
    }
   },
   "outputs": [],
   "source": [
    "import numpy as np # linear algebra\n",
    "import pandas as pd # data processing, CSV file I/O (e.g. pd.read_csv)\n",
    "import cv2\n",
    "import os\n",
    "for dirname, _, filenames in os.walk('./model'):\n",
    "    for filename in filenames:\n",
    "        print(os.path.join(dirname, filename))\n"
   ]
  },
  {
   "cell_type": "code",
   "execution_count": 3,
   "metadata": {
    "execution": {
     "iopub.execute_input": "2023-03-31T18:22:53.066980Z",
     "iopub.status.busy": "2023-03-31T18:22:53.065803Z",
     "iopub.status.idle": "2023-03-31T18:22:57.225999Z",
     "shell.execute_reply": "2023-03-31T18:22:57.224730Z",
     "shell.execute_reply.started": "2023-03-31T18:22:53.066902Z"
    }
   },
   "outputs": [],
   "source": [
    "train = pd.read_csv(\"train.csv\")"
   ]
  },
  {
   "cell_type": "code",
   "execution_count": 4,
   "metadata": {
    "execution": {
     "iopub.execute_input": "2023-03-31T18:23:03.200740Z",
     "iopub.status.busy": "2023-03-31T18:23:03.200316Z",
     "iopub.status.idle": "2023-03-31T18:23:03.247167Z",
     "shell.execute_reply": "2023-03-31T18:23:03.246038Z",
     "shell.execute_reply.started": "2023-03-31T18:23:03.200705Z"
    }
   },
   "outputs": [
    {
     "data": {
      "text/html": [
       "<div>\n",
       "<style scoped>\n",
       "    .dataframe tbody tr th:only-of-type {\n",
       "        vertical-align: middle;\n",
       "    }\n",
       "\n",
       "    .dataframe tbody tr th {\n",
       "        vertical-align: top;\n",
       "    }\n",
       "\n",
       "    .dataframe thead th {\n",
       "        text-align: right;\n",
       "    }\n",
       "</style>\n",
       "<table border=\"1\" class=\"dataframe\">\n",
       "  <thead>\n",
       "    <tr style=\"text-align: right;\">\n",
       "      <th></th>\n",
       "      <th>label</th>\n",
       "      <th>pixel0</th>\n",
       "      <th>pixel1</th>\n",
       "      <th>pixel2</th>\n",
       "      <th>pixel3</th>\n",
       "      <th>pixel4</th>\n",
       "      <th>pixel5</th>\n",
       "      <th>pixel6</th>\n",
       "      <th>pixel7</th>\n",
       "      <th>pixel8</th>\n",
       "      <th>...</th>\n",
       "      <th>pixel774</th>\n",
       "      <th>pixel775</th>\n",
       "      <th>pixel776</th>\n",
       "      <th>pixel777</th>\n",
       "      <th>pixel778</th>\n",
       "      <th>pixel779</th>\n",
       "      <th>pixel780</th>\n",
       "      <th>pixel781</th>\n",
       "      <th>pixel782</th>\n",
       "      <th>pixel783</th>\n",
       "    </tr>\n",
       "  </thead>\n",
       "  <tbody>\n",
       "    <tr>\n",
       "      <th>0</th>\n",
       "      <td>1</td>\n",
       "      <td>0</td>\n",
       "      <td>0</td>\n",
       "      <td>0</td>\n",
       "      <td>0</td>\n",
       "      <td>0</td>\n",
       "      <td>0</td>\n",
       "      <td>0</td>\n",
       "      <td>0</td>\n",
       "      <td>0</td>\n",
       "      <td>...</td>\n",
       "      <td>0</td>\n",
       "      <td>0</td>\n",
       "      <td>0</td>\n",
       "      <td>0</td>\n",
       "      <td>0</td>\n",
       "      <td>0</td>\n",
       "      <td>0</td>\n",
       "      <td>0</td>\n",
       "      <td>0</td>\n",
       "      <td>0</td>\n",
       "    </tr>\n",
       "    <tr>\n",
       "      <th>1</th>\n",
       "      <td>0</td>\n",
       "      <td>0</td>\n",
       "      <td>0</td>\n",
       "      <td>0</td>\n",
       "      <td>0</td>\n",
       "      <td>0</td>\n",
       "      <td>0</td>\n",
       "      <td>0</td>\n",
       "      <td>0</td>\n",
       "      <td>0</td>\n",
       "      <td>...</td>\n",
       "      <td>0</td>\n",
       "      <td>0</td>\n",
       "      <td>0</td>\n",
       "      <td>0</td>\n",
       "      <td>0</td>\n",
       "      <td>0</td>\n",
       "      <td>0</td>\n",
       "      <td>0</td>\n",
       "      <td>0</td>\n",
       "      <td>0</td>\n",
       "    </tr>\n",
       "    <tr>\n",
       "      <th>2</th>\n",
       "      <td>1</td>\n",
       "      <td>0</td>\n",
       "      <td>0</td>\n",
       "      <td>0</td>\n",
       "      <td>0</td>\n",
       "      <td>0</td>\n",
       "      <td>0</td>\n",
       "      <td>0</td>\n",
       "      <td>0</td>\n",
       "      <td>0</td>\n",
       "      <td>...</td>\n",
       "      <td>0</td>\n",
       "      <td>0</td>\n",
       "      <td>0</td>\n",
       "      <td>0</td>\n",
       "      <td>0</td>\n",
       "      <td>0</td>\n",
       "      <td>0</td>\n",
       "      <td>0</td>\n",
       "      <td>0</td>\n",
       "      <td>0</td>\n",
       "    </tr>\n",
       "    <tr>\n",
       "      <th>3</th>\n",
       "      <td>4</td>\n",
       "      <td>0</td>\n",
       "      <td>0</td>\n",
       "      <td>0</td>\n",
       "      <td>0</td>\n",
       "      <td>0</td>\n",
       "      <td>0</td>\n",
       "      <td>0</td>\n",
       "      <td>0</td>\n",
       "      <td>0</td>\n",
       "      <td>...</td>\n",
       "      <td>0</td>\n",
       "      <td>0</td>\n",
       "      <td>0</td>\n",
       "      <td>0</td>\n",
       "      <td>0</td>\n",
       "      <td>0</td>\n",
       "      <td>0</td>\n",
       "      <td>0</td>\n",
       "      <td>0</td>\n",
       "      <td>0</td>\n",
       "    </tr>\n",
       "    <tr>\n",
       "      <th>4</th>\n",
       "      <td>0</td>\n",
       "      <td>0</td>\n",
       "      <td>0</td>\n",
       "      <td>0</td>\n",
       "      <td>0</td>\n",
       "      <td>0</td>\n",
       "      <td>0</td>\n",
       "      <td>0</td>\n",
       "      <td>0</td>\n",
       "      <td>0</td>\n",
       "      <td>...</td>\n",
       "      <td>0</td>\n",
       "      <td>0</td>\n",
       "      <td>0</td>\n",
       "      <td>0</td>\n",
       "      <td>0</td>\n",
       "      <td>0</td>\n",
       "      <td>0</td>\n",
       "      <td>0</td>\n",
       "      <td>0</td>\n",
       "      <td>0</td>\n",
       "    </tr>\n",
       "  </tbody>\n",
       "</table>\n",
       "<p>5 rows × 785 columns</p>\n",
       "</div>"
      ],
      "text/plain": [
       "   label  pixel0  pixel1  pixel2  pixel3  pixel4  pixel5  pixel6  pixel7  \\\n",
       "0      1       0       0       0       0       0       0       0       0   \n",
       "1      0       0       0       0       0       0       0       0       0   \n",
       "2      1       0       0       0       0       0       0       0       0   \n",
       "3      4       0       0       0       0       0       0       0       0   \n",
       "4      0       0       0       0       0       0       0       0       0   \n",
       "\n",
       "   pixel8  ...  pixel774  pixel775  pixel776  pixel777  pixel778  pixel779  \\\n",
       "0       0  ...         0         0         0         0         0         0   \n",
       "1       0  ...         0         0         0         0         0         0   \n",
       "2       0  ...         0         0         0         0         0         0   \n",
       "3       0  ...         0         0         0         0         0         0   \n",
       "4       0  ...         0         0         0         0         0         0   \n",
       "\n",
       "   pixel780  pixel781  pixel782  pixel783  \n",
       "0         0         0         0         0  \n",
       "1         0         0         0         0  \n",
       "2         0         0         0         0  \n",
       "3         0         0         0         0  \n",
       "4         0         0         0         0  \n",
       "\n",
       "[5 rows x 785 columns]"
      ]
     },
     "execution_count": 4,
     "metadata": {},
     "output_type": "execute_result"
    }
   ],
   "source": [
    "train.head()"
   ]
  },
  {
   "cell_type": "code",
   "execution_count": 5,
   "metadata": {
    "execution": {
     "iopub.execute_input": "2023-03-31T18:23:04.429486Z",
     "iopub.status.busy": "2023-03-31T18:23:04.429066Z",
     "iopub.status.idle": "2023-03-31T18:23:04.581888Z",
     "shell.execute_reply": "2023-03-31T18:23:04.580666Z",
     "shell.execute_reply.started": "2023-03-31T18:23:04.429448Z"
    }
   },
   "outputs": [
    {
     "data": {
      "text/html": [
       "<div>\n",
       "<style scoped>\n",
       "    .dataframe tbody tr th:only-of-type {\n",
       "        vertical-align: middle;\n",
       "    }\n",
       "\n",
       "    .dataframe tbody tr th {\n",
       "        vertical-align: top;\n",
       "    }\n",
       "\n",
       "    .dataframe thead th {\n",
       "        text-align: right;\n",
       "    }\n",
       "</style>\n",
       "<table border=\"1\" class=\"dataframe\">\n",
       "  <thead>\n",
       "    <tr style=\"text-align: right;\">\n",
       "      <th></th>\n",
       "      <th>pixel0</th>\n",
       "      <th>pixel1</th>\n",
       "      <th>pixel2</th>\n",
       "      <th>pixel3</th>\n",
       "      <th>pixel4</th>\n",
       "      <th>pixel5</th>\n",
       "      <th>pixel6</th>\n",
       "      <th>pixel7</th>\n",
       "      <th>pixel8</th>\n",
       "      <th>pixel9</th>\n",
       "      <th>...</th>\n",
       "      <th>pixel774</th>\n",
       "      <th>pixel775</th>\n",
       "      <th>pixel776</th>\n",
       "      <th>pixel777</th>\n",
       "      <th>pixel778</th>\n",
       "      <th>pixel779</th>\n",
       "      <th>pixel780</th>\n",
       "      <th>pixel781</th>\n",
       "      <th>pixel782</th>\n",
       "      <th>pixel783</th>\n",
       "    </tr>\n",
       "  </thead>\n",
       "  <tbody>\n",
       "    <tr>\n",
       "      <th>0</th>\n",
       "      <td>0</td>\n",
       "      <td>0</td>\n",
       "      <td>0</td>\n",
       "      <td>0</td>\n",
       "      <td>0</td>\n",
       "      <td>0</td>\n",
       "      <td>0</td>\n",
       "      <td>0</td>\n",
       "      <td>0</td>\n",
       "      <td>0</td>\n",
       "      <td>...</td>\n",
       "      <td>0</td>\n",
       "      <td>0</td>\n",
       "      <td>0</td>\n",
       "      <td>0</td>\n",
       "      <td>0</td>\n",
       "      <td>0</td>\n",
       "      <td>0</td>\n",
       "      <td>0</td>\n",
       "      <td>0</td>\n",
       "      <td>0</td>\n",
       "    </tr>\n",
       "    <tr>\n",
       "      <th>1</th>\n",
       "      <td>0</td>\n",
       "      <td>0</td>\n",
       "      <td>0</td>\n",
       "      <td>0</td>\n",
       "      <td>0</td>\n",
       "      <td>0</td>\n",
       "      <td>0</td>\n",
       "      <td>0</td>\n",
       "      <td>0</td>\n",
       "      <td>0</td>\n",
       "      <td>...</td>\n",
       "      <td>0</td>\n",
       "      <td>0</td>\n",
       "      <td>0</td>\n",
       "      <td>0</td>\n",
       "      <td>0</td>\n",
       "      <td>0</td>\n",
       "      <td>0</td>\n",
       "      <td>0</td>\n",
       "      <td>0</td>\n",
       "      <td>0</td>\n",
       "    </tr>\n",
       "    <tr>\n",
       "      <th>2</th>\n",
       "      <td>0</td>\n",
       "      <td>0</td>\n",
       "      <td>0</td>\n",
       "      <td>0</td>\n",
       "      <td>0</td>\n",
       "      <td>0</td>\n",
       "      <td>0</td>\n",
       "      <td>0</td>\n",
       "      <td>0</td>\n",
       "      <td>0</td>\n",
       "      <td>...</td>\n",
       "      <td>0</td>\n",
       "      <td>0</td>\n",
       "      <td>0</td>\n",
       "      <td>0</td>\n",
       "      <td>0</td>\n",
       "      <td>0</td>\n",
       "      <td>0</td>\n",
       "      <td>0</td>\n",
       "      <td>0</td>\n",
       "      <td>0</td>\n",
       "    </tr>\n",
       "    <tr>\n",
       "      <th>3</th>\n",
       "      <td>0</td>\n",
       "      <td>0</td>\n",
       "      <td>0</td>\n",
       "      <td>0</td>\n",
       "      <td>0</td>\n",
       "      <td>0</td>\n",
       "      <td>0</td>\n",
       "      <td>0</td>\n",
       "      <td>0</td>\n",
       "      <td>0</td>\n",
       "      <td>...</td>\n",
       "      <td>0</td>\n",
       "      <td>0</td>\n",
       "      <td>0</td>\n",
       "      <td>0</td>\n",
       "      <td>0</td>\n",
       "      <td>0</td>\n",
       "      <td>0</td>\n",
       "      <td>0</td>\n",
       "      <td>0</td>\n",
       "      <td>0</td>\n",
       "    </tr>\n",
       "    <tr>\n",
       "      <th>4</th>\n",
       "      <td>0</td>\n",
       "      <td>0</td>\n",
       "      <td>0</td>\n",
       "      <td>0</td>\n",
       "      <td>0</td>\n",
       "      <td>0</td>\n",
       "      <td>0</td>\n",
       "      <td>0</td>\n",
       "      <td>0</td>\n",
       "      <td>0</td>\n",
       "      <td>...</td>\n",
       "      <td>0</td>\n",
       "      <td>0</td>\n",
       "      <td>0</td>\n",
       "      <td>0</td>\n",
       "      <td>0</td>\n",
       "      <td>0</td>\n",
       "      <td>0</td>\n",
       "      <td>0</td>\n",
       "      <td>0</td>\n",
       "      <td>0</td>\n",
       "    </tr>\n",
       "    <tr>\n",
       "      <th>...</th>\n",
       "      <td>...</td>\n",
       "      <td>...</td>\n",
       "      <td>...</td>\n",
       "      <td>...</td>\n",
       "      <td>...</td>\n",
       "      <td>...</td>\n",
       "      <td>...</td>\n",
       "      <td>...</td>\n",
       "      <td>...</td>\n",
       "      <td>...</td>\n",
       "      <td>...</td>\n",
       "      <td>...</td>\n",
       "      <td>...</td>\n",
       "      <td>...</td>\n",
       "      <td>...</td>\n",
       "      <td>...</td>\n",
       "      <td>...</td>\n",
       "      <td>...</td>\n",
       "      <td>...</td>\n",
       "      <td>...</td>\n",
       "      <td>...</td>\n",
       "    </tr>\n",
       "    <tr>\n",
       "      <th>41995</th>\n",
       "      <td>0</td>\n",
       "      <td>0</td>\n",
       "      <td>0</td>\n",
       "      <td>0</td>\n",
       "      <td>0</td>\n",
       "      <td>0</td>\n",
       "      <td>0</td>\n",
       "      <td>0</td>\n",
       "      <td>0</td>\n",
       "      <td>0</td>\n",
       "      <td>...</td>\n",
       "      <td>0</td>\n",
       "      <td>0</td>\n",
       "      <td>0</td>\n",
       "      <td>0</td>\n",
       "      <td>0</td>\n",
       "      <td>0</td>\n",
       "      <td>0</td>\n",
       "      <td>0</td>\n",
       "      <td>0</td>\n",
       "      <td>0</td>\n",
       "    </tr>\n",
       "    <tr>\n",
       "      <th>41996</th>\n",
       "      <td>0</td>\n",
       "      <td>0</td>\n",
       "      <td>0</td>\n",
       "      <td>0</td>\n",
       "      <td>0</td>\n",
       "      <td>0</td>\n",
       "      <td>0</td>\n",
       "      <td>0</td>\n",
       "      <td>0</td>\n",
       "      <td>0</td>\n",
       "      <td>...</td>\n",
       "      <td>0</td>\n",
       "      <td>0</td>\n",
       "      <td>0</td>\n",
       "      <td>0</td>\n",
       "      <td>0</td>\n",
       "      <td>0</td>\n",
       "      <td>0</td>\n",
       "      <td>0</td>\n",
       "      <td>0</td>\n",
       "      <td>0</td>\n",
       "    </tr>\n",
       "    <tr>\n",
       "      <th>41997</th>\n",
       "      <td>0</td>\n",
       "      <td>0</td>\n",
       "      <td>0</td>\n",
       "      <td>0</td>\n",
       "      <td>0</td>\n",
       "      <td>0</td>\n",
       "      <td>0</td>\n",
       "      <td>0</td>\n",
       "      <td>0</td>\n",
       "      <td>0</td>\n",
       "      <td>...</td>\n",
       "      <td>0</td>\n",
       "      <td>0</td>\n",
       "      <td>0</td>\n",
       "      <td>0</td>\n",
       "      <td>0</td>\n",
       "      <td>0</td>\n",
       "      <td>0</td>\n",
       "      <td>0</td>\n",
       "      <td>0</td>\n",
       "      <td>0</td>\n",
       "    </tr>\n",
       "    <tr>\n",
       "      <th>41998</th>\n",
       "      <td>0</td>\n",
       "      <td>0</td>\n",
       "      <td>0</td>\n",
       "      <td>0</td>\n",
       "      <td>0</td>\n",
       "      <td>0</td>\n",
       "      <td>0</td>\n",
       "      <td>0</td>\n",
       "      <td>0</td>\n",
       "      <td>0</td>\n",
       "      <td>...</td>\n",
       "      <td>0</td>\n",
       "      <td>0</td>\n",
       "      <td>0</td>\n",
       "      <td>0</td>\n",
       "      <td>0</td>\n",
       "      <td>0</td>\n",
       "      <td>0</td>\n",
       "      <td>0</td>\n",
       "      <td>0</td>\n",
       "      <td>0</td>\n",
       "    </tr>\n",
       "    <tr>\n",
       "      <th>41999</th>\n",
       "      <td>0</td>\n",
       "      <td>0</td>\n",
       "      <td>0</td>\n",
       "      <td>0</td>\n",
       "      <td>0</td>\n",
       "      <td>0</td>\n",
       "      <td>0</td>\n",
       "      <td>0</td>\n",
       "      <td>0</td>\n",
       "      <td>0</td>\n",
       "      <td>...</td>\n",
       "      <td>0</td>\n",
       "      <td>0</td>\n",
       "      <td>0</td>\n",
       "      <td>0</td>\n",
       "      <td>0</td>\n",
       "      <td>0</td>\n",
       "      <td>0</td>\n",
       "      <td>0</td>\n",
       "      <td>0</td>\n",
       "      <td>0</td>\n",
       "    </tr>\n",
       "  </tbody>\n",
       "</table>\n",
       "<p>42000 rows × 784 columns</p>\n",
       "</div>"
      ],
      "text/plain": [
       "       pixel0  pixel1  pixel2  pixel3  pixel4  pixel5  pixel6  pixel7  pixel8  \\\n",
       "0           0       0       0       0       0       0       0       0       0   \n",
       "1           0       0       0       0       0       0       0       0       0   \n",
       "2           0       0       0       0       0       0       0       0       0   \n",
       "3           0       0       0       0       0       0       0       0       0   \n",
       "4           0       0       0       0       0       0       0       0       0   \n",
       "...       ...     ...     ...     ...     ...     ...     ...     ...     ...   \n",
       "41995       0       0       0       0       0       0       0       0       0   \n",
       "41996       0       0       0       0       0       0       0       0       0   \n",
       "41997       0       0       0       0       0       0       0       0       0   \n",
       "41998       0       0       0       0       0       0       0       0       0   \n",
       "41999       0       0       0       0       0       0       0       0       0   \n",
       "\n",
       "       pixel9  ...  pixel774  pixel775  pixel776  pixel777  pixel778  \\\n",
       "0           0  ...         0         0         0         0         0   \n",
       "1           0  ...         0         0         0         0         0   \n",
       "2           0  ...         0         0         0         0         0   \n",
       "3           0  ...         0         0         0         0         0   \n",
       "4           0  ...         0         0         0         0         0   \n",
       "...       ...  ...       ...       ...       ...       ...       ...   \n",
       "41995       0  ...         0         0         0         0         0   \n",
       "41996       0  ...         0         0         0         0         0   \n",
       "41997       0  ...         0         0         0         0         0   \n",
       "41998       0  ...         0         0         0         0         0   \n",
       "41999       0  ...         0         0         0         0         0   \n",
       "\n",
       "       pixel779  pixel780  pixel781  pixel782  pixel783  \n",
       "0             0         0         0         0         0  \n",
       "1             0         0         0         0         0  \n",
       "2             0         0         0         0         0  \n",
       "3             0         0         0         0         0  \n",
       "4             0         0         0         0         0  \n",
       "...         ...       ...       ...       ...       ...  \n",
       "41995         0         0         0         0         0  \n",
       "41996         0         0         0         0         0  \n",
       "41997         0         0         0         0         0  \n",
       "41998         0         0         0         0         0  \n",
       "41999         0         0         0         0         0  \n",
       "\n",
       "[42000 rows x 784 columns]"
      ]
     },
     "execution_count": 5,
     "metadata": {},
     "output_type": "execute_result"
    }
   ],
   "source": [
    "y_train = train['label']\n",
    "x_train = train.drop('label',axis=1)\n",
    "x_train"
   ]
  },
  {
   "cell_type": "code",
   "execution_count": 6,
   "metadata": {
    "execution": {
     "iopub.execute_input": "2023-03-31T18:23:06.175306Z",
     "iopub.status.busy": "2023-03-31T18:23:06.174241Z",
     "iopub.status.idle": "2023-03-31T18:23:06.183015Z",
     "shell.execute_reply": "2023-03-31T18:23:06.181584Z",
     "shell.execute_reply.started": "2023-03-31T18:23:06.175256Z"
    }
   },
   "outputs": [
    {
     "data": {
      "text/plain": [
       "42000"
      ]
     },
     "execution_count": 6,
     "metadata": {},
     "output_type": "execute_result"
    }
   ],
   "source": [
    "m = x_train.shape[0]\n",
    "m"
   ]
  },
  {
   "cell_type": "code",
   "execution_count": 7,
   "metadata": {
    "execution": {
     "iopub.execute_input": "2023-03-31T18:23:08.323234Z",
     "iopub.status.busy": "2023-03-31T18:23:08.322825Z",
     "iopub.status.idle": "2023-03-31T18:23:09.218220Z",
     "shell.execute_reply": "2023-03-31T18:23:09.217023Z",
     "shell.execute_reply.started": "2023-03-31T18:23:08.323199Z"
    }
   },
   "outputs": [
    {
     "data": {
      "image/png": "[encoded data removed]",
      "text/plain": [
       "<Figure size 1000x1000 with 25 Axes>"
      ]
     },
     "metadata": {},
     "output_type": "display_data"
    }
   ],
   "source": [
    "import matplotlib.pyplot as plt\n",
    "import random\n",
    "\n",
    "figs,axes = plt.subplots(5,5,figsize=(10,10))\n",
    "\n",
    "for i in range(1,26):\n",
    "    plt.subplot(5,5,i)\n",
    "    idx=random.randint(0,m)\n",
    "    img = x_train.loc[idx].values.reshape((28,28))\n",
    "    plt.imshow(img,cmap='Greys')\n",
    "    plt.title(y_train[idx])\n",
    "    plt.axis('off')\n",
    "# img"
   ]
  },
  {
   "cell_type": "code",
   "execution_count": 8,
   "metadata": {
    "execution": {
     "iopub.execute_input": "2023-03-31T18:23:12.024123Z",
     "iopub.status.busy": "2023-03-31T18:23:12.023705Z",
     "iopub.status.idle": "2023-03-31T18:23:20.682158Z",
     "shell.execute_reply": "2023-03-31T18:23:20.680769Z",
     "shell.execute_reply.started": "2023-03-31T18:23:12.024088Z"
    }
   },
   "outputs": [],
   "source": [
    "import tensorflow as tf\n",
    "from tensorflow.keras import Sequential\n",
    "from tensorflow.keras.layers import Dense"
   ]
  },
  {
   "cell_type": "code",
   "execution_count": 9,
   "metadata": {
    "execution": {
     "iopub.execute_input": "2023-03-31T18:23:21.882888Z",
     "iopub.status.busy": "2023-03-31T18:23:21.882071Z",
     "iopub.status.idle": "2023-03-31T18:23:22.061668Z",
     "shell.execute_reply": "2023-03-31T18:23:22.060517Z",
     "shell.execute_reply.started": "2023-03-31T18:23:21.882848Z"
    }
   },
   "outputs": [],
   "source": [
    "model = Sequential(\n",
    "[\n",
    "    tf.keras.Input(shape=(784,)),\n",
    "    Dense(128,activation='relu',name='l1'),\n",
    "    Dense(128,activation='relu',name='l2'),\n",
    "    Dense(10,activation='linear',name='output')\n",
    "])"
   ]
  },
  {
   "cell_type": "code",
   "execution_count": 10,
   "metadata": {
    "execution": {
     "iopub.execute_input": "2023-03-31T18:23:23.783440Z",
     "iopub.status.busy": "2023-03-31T18:23:23.783027Z",
     "iopub.status.idle": "2023-03-31T18:23:23.803799Z",
     "shell.execute_reply": "2023-03-31T18:23:23.802859Z",
     "shell.execute_reply.started": "2023-03-31T18:23:23.783406Z"
    }
   },
   "outputs": [],
   "source": [
    "model.compile(\n",
    "    loss=tf.keras.losses.SparseCategoricalCrossentropy(from_logits=True),\n",
    "    optimizer=tf.keras.optimizers.Adam(learning_rate=0.001),\n",
    "    metrics=['accuracy']\n",
    ")"
   ]
  },
  {
   "cell_type": "code",
   "execution_count": 11,
   "metadata": {
    "execution": {
     "iopub.execute_input": "2023-03-31T18:23:25.153063Z",
     "iopub.status.busy": "2023-03-31T18:23:25.152214Z",
     "iopub.status.idle": "2023-03-31T18:23:25.177061Z",
     "shell.execute_reply": "2023-03-31T18:23:25.175699Z",
     "shell.execute_reply.started": "2023-03-31T18:23:25.153015Z"
    }
   },
   "outputs": [
    {
     "name": "stdout",
     "output_type": "stream",
     "text": [
      "Model: \"sequential\"\n",
      "_________________________________________________________________\n",
      " Layer (type)                Output Shape              Param #   \n",
      "=================================================================\n",
      " l1 (Dense)                  (None, 128)               100480    \n",
      "                                                                 \n",
      " l2 (Dense)                  (None, 128)               16512     \n",
      "                                                                 \n",
      " output (Dense)              (None, 10)                1290      \n",
      "                                                                 \n",
      "=================================================================\n",
      "Total params: 118,282\n",
      "Trainable params: 118,282\n",
      "Non-trainable params: 0\n",
      "_________________________________________________________________\n"
     ]
    }
   ],
   "source": [
    "model.build()\n",
    "model.summary()"
   ]
  },
  {
   "cell_type": "code",
   "execution_count": 12,
   "metadata": {
    "execution": {
     "iopub.execute_input": "2023-03-31T18:23:46.474447Z",
     "iopub.status.busy": "2023-03-31T18:23:46.473572Z",
     "iopub.status.idle": "2023-03-31T18:26:08.805766Z",
     "shell.execute_reply": "2023-03-31T18:26:08.804290Z",
     "shell.execute_reply.started": "2023-03-31T18:23:46.474399Z"
    },
    "scrolled": true
   },
   "outputs": [
    {
     "name": "stdout",
     "output_type": "stream",
     "text": [
      "Epoch 1/50\n",
      "1050/1050 [==============================] - 4s 3ms/step - loss: 2.6492 - accuracy: 0.8515 - val_loss: 0.6718 - val_accuracy: 0.8965\n",
      "Epoch 2/50\n",
      "1050/1050 [==============================] - 2s 2ms/step - loss: 0.4723 - accuracy: 0.9188 - val_loss: 0.3849 - val_accuracy: 0.9210\n",
      "Epoch 3/50\n",
      "1050/1050 [==============================] - 2s 2ms/step - loss: 0.2674 - accuracy: 0.9404 - val_loss: 0.3504 - val_accuracy: 0.9231\n",
      "Epoch 4/50\n",
      "1050/1050 [==============================] - 2s 2ms/step - loss: 0.2114 - accuracy: 0.9458 - val_loss: 0.2798 - val_accuracy: 0.9323\n",
      "Epoch 5/50\n",
      "1050/1050 [==============================] - 2s 2ms/step - loss: 0.1683 - accuracy: 0.9541 - val_loss: 0.2621 - val_accuracy: 0.9457\n",
      "Epoch 6/50\n",
      "1050/1050 [==============================] - 2s 2ms/step - loss: 0.1619 - accuracy: 0.9574 - val_loss: 0.2938 - val_accuracy: 0.9336\n",
      "Epoch 7/50\n",
      "1050/1050 [==============================] - 2s 2ms/step - loss: 0.1405 - accuracy: 0.9610 - val_loss: 0.2502 - val_accuracy: 0.9458\n",
      "Epoch 8/50\n",
      "1050/1050 [==============================] - 2s 2ms/step - loss: 0.1298 - accuracy: 0.9637 - val_loss: 0.2284 - val_accuracy: 0.9525\n",
      "Epoch 9/50\n",
      "1050/1050 [==============================] - 2s 2ms/step - loss: 0.1275 - accuracy: 0.9650 - val_loss: 0.2554 - val_accuracy: 0.9369\n",
      "Epoch 10/50\n",
      "1050/1050 [==============================] - 3s 3ms/step - loss: 0.1123 - accuracy: 0.9685 - val_loss: 0.1796 - val_accuracy: 0.9623\n",
      "Epoch 11/50\n",
      "1050/1050 [==============================] - 4s 4ms/step - loss: 0.1099 - accuracy: 0.9699 - val_loss: 0.2060 - val_accuracy: 0.9546\n",
      "Epoch 12/50\n",
      "1050/1050 [==============================] - 5s 4ms/step - loss: 0.0912 - accuracy: 0.9746 - val_loss: 0.1993 - val_accuracy: 0.9605\n",
      "Epoch 13/50\n",
      "1050/1050 [==============================] - 8s 8ms/step - loss: 0.0924 - accuracy: 0.9754 - val_loss: 0.2435 - val_accuracy: 0.9569\n",
      "Epoch 14/50\n",
      "1050/1050 [==============================] - 3s 2ms/step - loss: 0.0872 - accuracy: 0.9770 - val_loss: 0.1861 - val_accuracy: 0.9644\n",
      "Epoch 15/50\n",
      "1050/1050 [==============================] - 2s 2ms/step - loss: 0.0796 - accuracy: 0.9783 - val_loss: 0.2024 - val_accuracy: 0.9644\n",
      "Epoch 16/50\n",
      "1050/1050 [==============================] - 3s 3ms/step - loss: 0.0782 - accuracy: 0.9795 - val_loss: 0.2071 - val_accuracy: 0.9652\n",
      "Epoch 17/50\n",
      "1050/1050 [==============================] - 7s 6ms/step - loss: 0.0823 - accuracy: 0.9786 - val_loss: 0.2204 - val_accuracy: 0.9587\n",
      "Epoch 18/50\n",
      "1050/1050 [==============================] - 4s 4ms/step - loss: 0.0782 - accuracy: 0.9795 - val_loss: 0.2106 - val_accuracy: 0.9620\n",
      "Epoch 19/50\n",
      "1050/1050 [==============================] - 6s 6ms/step - loss: 0.0658 - accuracy: 0.9834 - val_loss: 0.2510 - val_accuracy: 0.9638\n",
      "Epoch 20/50\n",
      "1050/1050 [==============================] - 4s 4ms/step - loss: 0.0707 - accuracy: 0.9823 - val_loss: 0.1980 - val_accuracy: 0.9655\n",
      "Epoch 21/50\n",
      "1050/1050 [==============================] - 3s 3ms/step - loss: 0.0616 - accuracy: 0.9841 - val_loss: 0.2050 - val_accuracy: 0.9673\n",
      "Epoch 22/50\n",
      "1050/1050 [==============================] - 4s 4ms/step - loss: 0.0612 - accuracy: 0.9854 - val_loss: 0.2663 - val_accuracy: 0.9595\n",
      "Epoch 23/50\n",
      "1050/1050 [==============================] - 3s 3ms/step - loss: 0.0666 - accuracy: 0.9840 - val_loss: 0.2260 - val_accuracy: 0.9671\n",
      "Epoch 24/50\n",
      "1050/1050 [==============================] - 3s 3ms/step - loss: 0.0669 - accuracy: 0.9846 - val_loss: 0.2506 - val_accuracy: 0.9619\n",
      "Epoch 25/50\n",
      "1050/1050 [==============================] - 3s 3ms/step - loss: 0.0593 - accuracy: 0.9863 - val_loss: 0.2603 - val_accuracy: 0.9606\n",
      "Epoch 26/50\n",
      "1050/1050 [==============================] - 3s 3ms/step - loss: 0.0606 - accuracy: 0.9864 - val_loss: 0.2289 - val_accuracy: 0.9631\n",
      "Epoch 27/50\n",
      "1050/1050 [==============================] - 2s 2ms/step - loss: 0.0517 - accuracy: 0.9871 - val_loss: 0.2766 - val_accuracy: 0.9620\n",
      "Epoch 28/50\n",
      "1050/1050 [==============================] - 3s 3ms/step - loss: 0.0636 - accuracy: 0.9857 - val_loss: 0.2545 - val_accuracy: 0.9633\n",
      "Epoch 29/50\n",
      "1050/1050 [==============================] - 3s 2ms/step - loss: 0.0567 - accuracy: 0.9867 - val_loss: 0.2228 - val_accuracy: 0.9671\n",
      "Epoch 30/50\n",
      "1050/1050 [==============================] - 3s 3ms/step - loss: 0.0482 - accuracy: 0.9886 - val_loss: 0.2880 - val_accuracy: 0.9638\n",
      "Epoch 31/50\n",
      "1050/1050 [==============================] - 3s 3ms/step - loss: 0.0555 - accuracy: 0.9865 - val_loss: 0.2516 - val_accuracy: 0.9654\n",
      "Epoch 32/50\n",
      "1050/1050 [==============================] - 3s 3ms/step - loss: 0.0563 - accuracy: 0.9875 - val_loss: 0.2839 - val_accuracy: 0.9629\n",
      "Epoch 33/50\n",
      "1050/1050 [==============================] - 3s 3ms/step - loss: 0.0396 - accuracy: 0.9911 - val_loss: 0.3823 - val_accuracy: 0.9621\n",
      "Epoch 34/50\n",
      "1050/1050 [==============================] - 3s 3ms/step - loss: 0.0662 - accuracy: 0.9861 - val_loss: 0.2734 - val_accuracy: 0.9646\n",
      "Epoch 35/50\n",
      "1050/1050 [==============================] - 3s 3ms/step - loss: 0.0437 - accuracy: 0.9898 - val_loss: 0.3561 - val_accuracy: 0.9660\n",
      "Epoch 36/50\n",
      "1050/1050 [==============================] - 3s 3ms/step - loss: 0.0466 - accuracy: 0.9893 - val_loss: 0.3843 - val_accuracy: 0.9625\n",
      "Epoch 37/50\n",
      "1050/1050 [==============================] - 3s 3ms/step - loss: 0.0526 - accuracy: 0.9891 - val_loss: 0.2686 - val_accuracy: 0.9630\n",
      "Epoch 38/50\n",
      "1050/1050 [==============================] - 3s 3ms/step - loss: 0.0491 - accuracy: 0.9891 - val_loss: 0.2787 - val_accuracy: 0.9655\n",
      "Epoch 39/50\n",
      "1050/1050 [==============================] - 3s 3ms/step - loss: 0.0460 - accuracy: 0.9898 - val_loss: 0.3715 - val_accuracy: 0.9643\n",
      "Epoch 40/50\n",
      "1050/1050 [==============================] - 3s 3ms/step - loss: 0.0507 - accuracy: 0.9898 - val_loss: 0.3239 - val_accuracy: 0.9598\n",
      "Epoch 41/50\n",
      "1050/1050 [==============================] - 2s 2ms/step - loss: 0.0499 - accuracy: 0.9897 - val_loss: 0.3458 - val_accuracy: 0.9668\n",
      "Epoch 42/50\n",
      "1050/1050 [==============================] - 3s 3ms/step - loss: 0.0424 - accuracy: 0.9907 - val_loss: 0.3273 - val_accuracy: 0.9658\n",
      "Epoch 43/50\n",
      "1050/1050 [==============================] - 3s 3ms/step - loss: 0.0432 - accuracy: 0.9908 - val_loss: 0.3890 - val_accuracy: 0.9669\n",
      "Epoch 44/50\n",
      "1050/1050 [==============================] - 3s 2ms/step - loss: 0.0463 - accuracy: 0.9898 - val_loss: 0.3050 - val_accuracy: 0.9646\n",
      "Epoch 45/50\n",
      "1050/1050 [==============================] - 4s 4ms/step - loss: 0.0543 - accuracy: 0.9893 - val_loss: 0.3463 - val_accuracy: 0.9692\n",
      "Epoch 46/50\n",
      "1050/1050 [==============================] - 3s 3ms/step - loss: 0.0444 - accuracy: 0.9911 - val_loss: 0.3763 - val_accuracy: 0.9658\n",
      "Epoch 47/50\n",
      "1050/1050 [==============================] - 3s 3ms/step - loss: 0.0456 - accuracy: 0.9907 - val_loss: 0.3506 - val_accuracy: 0.9682\n",
      "Epoch 48/50\n",
      "1050/1050 [==============================] - 2s 2ms/step - loss: 0.0555 - accuracy: 0.9887 - val_loss: 0.3592 - val_accuracy: 0.9645\n",
      "Epoch 49/50\n",
      "1050/1050 [==============================] - 3s 3ms/step - loss: 0.0457 - accuracy: 0.9908 - val_loss: 0.3115 - val_accuracy: 0.9654\n",
      "Epoch 50/50\n",
      "1050/1050 [==============================] - 3s 3ms/step - loss: 0.0315 - accuracy: 0.9922 - val_loss: 0.3812 - val_accuracy: 0.9642\n"
     ]
    }
   ],
   "source": [
    "history = model.fit(x_train,y_train,epochs=50,validation_split=0.2)"
   ]
  },
  {
   "cell_type": "code",
   "execution_count": 13,
   "metadata": {
    "execution": {
     "iopub.execute_input": "2023-03-31T18:42:36.376577Z",
     "iopub.status.busy": "2023-03-31T18:42:36.376120Z",
     "iopub.status.idle": "2023-03-31T18:42:36.646482Z",
     "shell.execute_reply": "2023-03-31T18:42:36.645240Z",
     "shell.execute_reply.started": "2023-03-31T18:42:36.376537Z"
    }
   },
   "outputs": [
    {
     "data": {
      "image/png": "[encoded data removed]",
      "text/plain": [
       "<Figure size 640x480 with 1 Axes>"
      ]
     },
     "metadata": {},
     "output_type": "display_data"
    }
   ],
   "source": [
    "plt.plot(history.history['loss'], label='Training Loss')\n",
    "plt.plot(history.history['val_loss'], label='Validation Loss')\n",
    "plt.title('Training and Validation Loss')\n",
    "plt.xlabel('Epoch')\n",
    "plt.ylabel('Loss')\n",
    "plt.legend()\n",
    "plt.show()"
   ]
  },
  {
   "cell_type": "code",
   "execution_count": 14,
   "metadata": {
    "execution": {
     "iopub.execute_input": "2023-03-31T18:42:39.483706Z",
     "iopub.status.busy": "2023-03-31T18:42:39.483292Z",
     "iopub.status.idle": "2023-03-31T18:42:39.702035Z",
     "shell.execute_reply": "2023-03-31T18:42:39.701163Z",
     "shell.execute_reply.started": "2023-03-31T18:42:39.483671Z"
    }
   },
   "outputs": [
    {
     "data": {
      "text/plain": [
       "[<matplotlib.lines.Line2D at 0x22aa68c2e30>]"
      ]
     },
     "execution_count": 14,
     "metadata": {},
     "output_type": "execute_result"
    },
    {
     "data": {
      "image/png": "[encoded data removed]",
      "text/plain": [
       "<Figure size 640x480 with 1 Axes>"
      ]
     },
     "metadata": {},
     "output_type": "display_data"
    }
   ],
   "source": [
    "plt.plot(history.history['accuracy'])\n",
    "plt.plot(history.history['val_accuracy'])"
   ]
  },
  {
   "cell_type": "code",
   "execution_count": 15,
   "metadata": {
    "execution": {
     "iopub.execute_input": "2023-03-31T18:42:42.047832Z",
     "iopub.status.busy": "2023-03-31T18:42:42.046516Z",
     "iopub.status.idle": "2023-03-31T18:42:44.012272Z",
     "shell.execute_reply": "2023-03-31T18:42:44.011023Z",
     "shell.execute_reply.started": "2023-03-31T18:42:42.047778Z"
    }
   },
   "outputs": [
    {
     "name": "stdout",
     "output_type": "stream",
     "text": [
      "1313/1313 [==============================] - 2s 1ms/step\n"
     ]
    }
   ],
   "source": [
    "probability = model.predict(x_train)\n",
    "# y_train"
   ]
  },
  {
   "cell_type": "code",
   "execution_count": 20,
   "metadata": {
    "execution": {
     "iopub.execute_input": "2023-03-31T18:42:46.293523Z",
     "iopub.status.busy": "2023-03-31T18:42:46.293052Z",
     "iopub.status.idle": "2023-03-31T18:42:46.547113Z",
     "shell.execute_reply": "2023-03-31T18:42:46.545095Z",
     "shell.execute_reply.started": "2023-03-31T18:42:46.293481Z"
    }
   },
   "outputs": [
    {
     "name": "stdout",
     "output_type": "stream",
     "text": [
      "1/1 [==============================] - 0s 23ms/step\n"
     ]
    },
    {
     "data": {
      "text/plain": [
       "array([6], dtype=int64)"
      ]
     },
     "execution_count": 20,
     "metadata": {},
     "output_type": "execute_result"
    },
    {
     "data": {
      "image/png": "[encoded data removed]",
      "text/plain": [
       "<Figure size 640x480 with 1 Axes>"
      ]
     },
     "metadata": {},
     "output_type": "display_data"
    }
   ],
   "source": [
    "i=72\n",
    "img = x_train.loc[i].values.reshape((28,28))\n",
    "plt.imshow(img,cmap='Greys')\n",
    "plt.axis('off')\n",
    "prob = model.predict(x_train.iloc[i].to_numpy().reshape(1,-1))\n",
    "y = prob.argmax(axis=1)\n",
    "y"
   ]
  },
  {
   "cell_type": "code",
   "execution_count": 21,
   "metadata": {
    "execution": {
     "iopub.execute_input": "2023-03-31T18:42:49.634709Z",
     "iopub.status.busy": "2023-03-31T18:42:49.633935Z",
     "iopub.status.idle": "2023-03-31T18:42:49.642451Z",
     "shell.execute_reply": "2023-03-31T18:42:49.641413Z",
     "shell.execute_reply.started": "2023-03-31T18:42:49.634665Z"
    }
   },
   "outputs": [
    {
     "data": {
      "text/plain": [
       "array([1, 0, 1, ..., 7, 6, 9], dtype=int64)"
      ]
     },
     "execution_count": 21,
     "metadata": {},
     "output_type": "execute_result"
    }
   ],
   "source": [
    "y_pred = probability.argmax(axis=1)\n",
    "y_pred"
   ]
  },
  {
   "cell_type": "code",
   "execution_count": 22,
   "metadata": {
    "execution": {
     "iopub.execute_input": "2023-03-31T18:42:51.337115Z",
     "iopub.status.busy": "2023-03-31T18:42:51.336642Z",
     "iopub.status.idle": "2023-03-31T18:42:51.345509Z",
     "shell.execute_reply": "2023-03-31T18:42:51.343918Z",
     "shell.execute_reply.started": "2023-03-31T18:42:51.337073Z"
    }
   },
   "outputs": [
    {
     "data": {
      "text/plain": [
       "0.9922321438789368"
      ]
     },
     "execution_count": 22,
     "metadata": {},
     "output_type": "execute_result"
    }
   ],
   "source": [
    "max(history.history['accuracy'])"
   ]
  },
  {
   "cell_type": "code",
   "execution_count": null,
   "metadata": {},
   "outputs": [],
   "source": []
  }
 ],
 "metadata": {
  "kernelspec": {
   "display_name": "cv",
   "language": "python",
   "name": "cv"
  },
  "language_info": {
   "codemirror_mode": {
    "name": "ipython",
    "version": 3
   },
   "file_extension": ".py",
   "mimetype": "text/x-python",
   "name": "python",
   "nbconvert_exporter": "python",
   "pygments_lexer": "ipython3",
   "version": "3.10.10"
  }
 },
 "nbformat": 4,
 "nbformat_minor": 4
}
